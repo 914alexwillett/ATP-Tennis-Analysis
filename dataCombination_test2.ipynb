{
 "cells": [
  {
   "cell_type": "code",
   "execution_count": 1,
   "metadata": {},
   "outputs": [],
   "source": [
    "import pandas as pd\n",
    "import numpy as np\n",
    "import matplotlib.pyplot as plt"
   ]
  },
  {
   "cell_type": "code",
   "execution_count": 2,
   "metadata": {},
   "outputs": [],
   "source": [
    "from analytic_tools import *"
   ]
  },
  {
   "cell_type": "code",
   "execution_count": 3,
   "metadata": {},
   "outputs": [],
   "source": [
    "def add_matchId(df):\n",
    "    df['name'] = df['name'].str.replace(' ', '')\n",
    "    df['tournament'] = df['tournament'].str.replace(' ', '')\n",
    "    df['match_id'] = df['name'] + '_' + df['tournament'] + '_' + df['round']\n",
    "    return df\n",
    "\n",
    "def replace_valueName(df, name):\n",
    "    \"\"\"\n",
    "    name: str\n",
    "    \"\"\"\n",
    "    df[name] = df['value']\n",
    "    df[name] = pd.to_numeric(df[name])\n",
    "    return df"
   ]
  },
  {
   "cell_type": "code",
   "execution_count": 4,
   "metadata": {},
   "outputs": [],
   "source": [
    "def add_variable(master_seed, variable_file, variable_name):\n",
    "    \"\"\"\n",
    "    master_seed: DataFrame - (should be aces)\n",
    "    variable_file: .csv file - with the variable and the match_id\n",
    "    variable_name: str - name of the variable column to be assimilated to the master df\n",
    "    \"\"\"\n",
    "    file_path = r'C:\\\\Users\\\\Alex Willett\\\\ATP_tennis_project\\\\data\\\\'\n",
    "    df = pd.read_csv(f'{file_path}{variable_file}')\n",
    "    df = add_matchId(df)\n",
    "    df = replace_valueName(df, variable_name)\n",
    "    df_slim = df[['match_id', 'date', variable_name, 'winner']]\n",
    "    \n",
    "    # combining the new variable with the master_seed\n",
    "    master = master_seed.merge(df_slim, how='inner', on='match_id', suffixes=['_aces', f'_{variable_name}'])\n",
    "    assert (master['date_aces'] == master[f'date_{variable_name}']).all() & (master['winner_aces'] == master[f'winner_{variable_name}']).all()\n",
    "    master['date'] = master['date_aces']\n",
    "    master['winner'] = master['winner_aces']\n",
    "    master.drop(columns= ['date_aces', f'date_{variable_name}', 'winner_aces', f'winner_{variable_name}'], inplace=True)\n",
    "    return master"
   ]
  },
  {
   "cell_type": "code",
   "execution_count": 5,
   "metadata": {},
   "outputs": [],
   "source": [
    "file_path = r'C:\\\\Users\\\\Alex Willett\\\\ATP_tennis_project\\\\data\\\\'"
   ]
  },
  {
   "cell_type": "code",
   "execution_count": 6,
   "metadata": {},
   "outputs": [],
   "source": [
    "file = 'grandSlam_aces.csv'"
   ]
  },
  {
   "cell_type": "code",
   "execution_count": 7,
   "metadata": {},
   "outputs": [],
   "source": [
    "aces = pd.DataFrame(pd.read_csv(f'{file_path}{file}'))\n",
    "aces = add_matchId(aces)\n",
    "aces = replace_valueName(aces, 'aces')"
   ]
  },
  {
   "cell_type": "code",
   "execution_count": 8,
   "metadata": {},
   "outputs": [],
   "source": [
    "relavent_cols = ['match_id', 'name', 'country_id', 'date', 'tournament', 'surface', 'indoor', 'speed', 'round', 'score', 'winner', 'aces']\n",
    "master_seed = aces[relavent_cols].copy()"
   ]
  },
  {
   "cell_type": "code",
   "execution_count": 9,
   "metadata": {},
   "outputs": [
    {
     "data": {
      "text/html": [
       "<div>\n",
       "<style scoped>\n",
       "    .dataframe tbody tr th:only-of-type {\n",
       "        vertical-align: middle;\n",
       "    }\n",
       "\n",
       "    .dataframe tbody tr th {\n",
       "        vertical-align: top;\n",
       "    }\n",
       "\n",
       "    .dataframe thead th {\n",
       "        text-align: right;\n",
       "    }\n",
       "</style>\n",
       "<table border=\"1\" class=\"dataframe\">\n",
       "  <thead>\n",
       "    <tr style=\"text-align: right;\">\n",
       "      <th></th>\n",
       "      <th>match_id</th>\n",
       "      <th>name</th>\n",
       "      <th>country_id</th>\n",
       "      <th>date</th>\n",
       "      <th>tournament</th>\n",
       "      <th>surface</th>\n",
       "      <th>indoor</th>\n",
       "      <th>speed</th>\n",
       "      <th>round</th>\n",
       "      <th>score</th>\n",
       "      <th>winner</th>\n",
       "      <th>aces</th>\n",
       "    </tr>\n",
       "  </thead>\n",
       "  <tbody>\n",
       "    <tr>\n",
       "      <th>0</th>\n",
       "      <td>JohnIsner_Wimbledon_R128</td>\n",
       "      <td>JohnIsner</td>\n",
       "      <td>USA</td>\n",
       "      <td>6/27/2022</td>\n",
       "      <td>Wimbledon</td>\n",
       "      <td>G</td>\n",
       "      <td>False</td>\n",
       "      <td>70</td>\n",
       "      <td>R128</td>\n",
       "      <td>6-7(6) 7-6(3) 4-6 6-3 7-5</td>\n",
       "      <td>True</td>\n",
       "      <td>54</td>\n",
       "    </tr>\n",
       "    <tr>\n",
       "      <th>1</th>\n",
       "      <td>MaximeCressy_RolandGarros_R128</td>\n",
       "      <td>MaximeCressy</td>\n",
       "      <td>USA</td>\n",
       "      <td>5/22/2022</td>\n",
       "      <td>RolandGarros</td>\n",
       "      <td>C</td>\n",
       "      <td>False</td>\n",
       "      <td>37</td>\n",
       "      <td>R128</td>\n",
       "      <td>3-6 2-6 7-6(8) 6-4 6-4</td>\n",
       "      <td>False</td>\n",
       "      <td>42</td>\n",
       "    </tr>\n",
       "    <tr>\n",
       "      <th>2</th>\n",
       "      <td>JohnIsner_AustralianOpen_R128</td>\n",
       "      <td>JohnIsner</td>\n",
       "      <td>USA</td>\n",
       "      <td>1/17/2022</td>\n",
       "      <td>AustralianOpen</td>\n",
       "      <td>H</td>\n",
       "      <td>False</td>\n",
       "      <td>67</td>\n",
       "      <td>R128</td>\n",
       "      <td>7-6(2) 7-5 6-7(4) 6-7(4) 6-4</td>\n",
       "      <td>False</td>\n",
       "      <td>39</td>\n",
       "    </tr>\n",
       "  </tbody>\n",
       "</table>\n",
       "</div>"
      ],
      "text/plain": [
       "                         match_id          name country_id       date  \\\n",
       "0        JohnIsner_Wimbledon_R128     JohnIsner        USA  6/27/2022   \n",
       "1  MaximeCressy_RolandGarros_R128  MaximeCressy        USA  5/22/2022   \n",
       "2   JohnIsner_AustralianOpen_R128     JohnIsner        USA  1/17/2022   \n",
       "\n",
       "       tournament surface  indoor  speed round                         score  \\\n",
       "0       Wimbledon       G   False     70  R128     6-7(6) 7-6(3) 4-6 6-3 7-5   \n",
       "1    RolandGarros       C   False     37  R128        3-6 2-6 7-6(8) 6-4 6-4   \n",
       "2  AustralianOpen       H   False     67  R128  7-6(2) 7-5 6-7(4) 6-7(4) 6-4   \n",
       "\n",
       "   winner  aces  \n",
       "0    True    54  \n",
       "1   False    42  \n",
       "2   False    39  "
      ]
     },
     "execution_count": 9,
     "metadata": {},
     "output_type": "execute_result"
    }
   ],
   "source": [
    "master_seed.head(3)"
   ]
  },
  {
   "cell_type": "code",
   "execution_count": 10,
   "metadata": {},
   "outputs": [
    {
     "ename": "ValueError",
     "evalue": "Unable to parse string \"84.90%\" at position 0",
     "output_type": "error",
     "traceback": [
      "\u001b[1;31m---------------------------------------------------------------------------\u001b[0m",
      "\u001b[1;31mValueError\u001b[0m                                Traceback (most recent call last)",
      "\u001b[1;32mpandas\\_libs\\lib.pyx\u001b[0m in \u001b[0;36mpandas._libs.lib.maybe_convert_numeric\u001b[1;34m()\u001b[0m\n",
      "\u001b[1;31mValueError\u001b[0m: Unable to parse string \"84.90%\"",
      "\nDuring handling of the above exception, another exception occurred:\n",
      "\u001b[1;31mValueError\u001b[0m                                Traceback (most recent call last)",
      "\u001b[1;32m<ipython-input-10-0f6b08bb993c>\u001b[0m in \u001b[0;36m<module>\u001b[1;34m\u001b[0m\n\u001b[1;32m----> 1\u001b[1;33m \u001b[0mmaster\u001b[0m \u001b[1;33m=\u001b[0m \u001b[0madd_variable\u001b[0m\u001b[1;33m(\u001b[0m\u001b[0mmaster_seed\u001b[0m\u001b[1;33m,\u001b[0m \u001b[1;34m'grandSlam_1stServePcnt.csv'\u001b[0m\u001b[1;33m,\u001b[0m \u001b[1;34m'1stServe%'\u001b[0m\u001b[1;33m)\u001b[0m\u001b[1;33m\u001b[0m\u001b[1;33m\u001b[0m\u001b[0m\n\u001b[0m",
      "\u001b[1;32m<ipython-input-4-9b87e995dec5>\u001b[0m in \u001b[0;36madd_variable\u001b[1;34m(master_seed, variable_file, variable_name)\u001b[0m\n\u001b[0;32m      8\u001b[0m     \u001b[0mdf\u001b[0m \u001b[1;33m=\u001b[0m \u001b[0mpd\u001b[0m\u001b[1;33m.\u001b[0m\u001b[0mread_csv\u001b[0m\u001b[1;33m(\u001b[0m\u001b[1;34mf'{file_path}{variable_file}'\u001b[0m\u001b[1;33m)\u001b[0m\u001b[1;33m\u001b[0m\u001b[1;33m\u001b[0m\u001b[0m\n\u001b[0;32m      9\u001b[0m     \u001b[0mdf\u001b[0m \u001b[1;33m=\u001b[0m \u001b[0madd_matchId\u001b[0m\u001b[1;33m(\u001b[0m\u001b[0mdf\u001b[0m\u001b[1;33m)\u001b[0m\u001b[1;33m\u001b[0m\u001b[1;33m\u001b[0m\u001b[0m\n\u001b[1;32m---> 10\u001b[1;33m     \u001b[0mdf\u001b[0m \u001b[1;33m=\u001b[0m \u001b[0mreplace_valueName\u001b[0m\u001b[1;33m(\u001b[0m\u001b[0mdf\u001b[0m\u001b[1;33m,\u001b[0m \u001b[0mvariable_name\u001b[0m\u001b[1;33m)\u001b[0m\u001b[1;33m\u001b[0m\u001b[1;33m\u001b[0m\u001b[0m\n\u001b[0m\u001b[0;32m     11\u001b[0m     \u001b[0mdf_slim\u001b[0m \u001b[1;33m=\u001b[0m \u001b[0mdf\u001b[0m\u001b[1;33m[\u001b[0m\u001b[1;33m[\u001b[0m\u001b[1;34m'match_id'\u001b[0m\u001b[1;33m,\u001b[0m \u001b[1;34m'date'\u001b[0m\u001b[1;33m,\u001b[0m \u001b[0mvariable_name\u001b[0m\u001b[1;33m,\u001b[0m \u001b[1;34m'winner'\u001b[0m\u001b[1;33m]\u001b[0m\u001b[1;33m]\u001b[0m\u001b[1;33m\u001b[0m\u001b[1;33m\u001b[0m\u001b[0m\n\u001b[0;32m     12\u001b[0m \u001b[1;33m\u001b[0m\u001b[0m\n",
      "\u001b[1;32m<ipython-input-3-8828d755f26e>\u001b[0m in \u001b[0;36mreplace_valueName\u001b[1;34m(df, name)\u001b[0m\n\u001b[0;32m     10\u001b[0m     \"\"\"\n\u001b[0;32m     11\u001b[0m     \u001b[0mdf\u001b[0m\u001b[1;33m[\u001b[0m\u001b[0mname\u001b[0m\u001b[1;33m]\u001b[0m \u001b[1;33m=\u001b[0m \u001b[0mdf\u001b[0m\u001b[1;33m[\u001b[0m\u001b[1;34m'value'\u001b[0m\u001b[1;33m]\u001b[0m\u001b[1;33m\u001b[0m\u001b[1;33m\u001b[0m\u001b[0m\n\u001b[1;32m---> 12\u001b[1;33m     \u001b[0mdf\u001b[0m\u001b[1;33m[\u001b[0m\u001b[0mname\u001b[0m\u001b[1;33m]\u001b[0m \u001b[1;33m=\u001b[0m \u001b[0mpd\u001b[0m\u001b[1;33m.\u001b[0m\u001b[0mto_numeric\u001b[0m\u001b[1;33m(\u001b[0m\u001b[0mdf\u001b[0m\u001b[1;33m[\u001b[0m\u001b[0mname\u001b[0m\u001b[1;33m]\u001b[0m\u001b[1;33m)\u001b[0m\u001b[1;33m\u001b[0m\u001b[1;33m\u001b[0m\u001b[0m\n\u001b[0m\u001b[0;32m     13\u001b[0m     \u001b[1;32mreturn\u001b[0m \u001b[0mdf\u001b[0m\u001b[1;33m\u001b[0m\u001b[1;33m\u001b[0m\u001b[0m\n",
      "\u001b[1;32m~\\anaconda3\\lib\\site-packages\\pandas\\core\\tools\\numeric.py\u001b[0m in \u001b[0;36mto_numeric\u001b[1;34m(arg, errors, downcast)\u001b[0m\n\u001b[0;32m    147\u001b[0m         \u001b[0mcoerce_numeric\u001b[0m \u001b[1;33m=\u001b[0m \u001b[0merrors\u001b[0m \u001b[1;32mnot\u001b[0m \u001b[1;32min\u001b[0m \u001b[1;33m(\u001b[0m\u001b[1;34m\"ignore\"\u001b[0m\u001b[1;33m,\u001b[0m \u001b[1;34m\"raise\"\u001b[0m\u001b[1;33m)\u001b[0m\u001b[1;33m\u001b[0m\u001b[1;33m\u001b[0m\u001b[0m\n\u001b[0;32m    148\u001b[0m         \u001b[1;32mtry\u001b[0m\u001b[1;33m:\u001b[0m\u001b[1;33m\u001b[0m\u001b[1;33m\u001b[0m\u001b[0m\n\u001b[1;32m--> 149\u001b[1;33m             values = lib.maybe_convert_numeric(\n\u001b[0m\u001b[0;32m    150\u001b[0m                 \u001b[0mvalues\u001b[0m\u001b[1;33m,\u001b[0m \u001b[0mset\u001b[0m\u001b[1;33m(\u001b[0m\u001b[1;33m)\u001b[0m\u001b[1;33m,\u001b[0m \u001b[0mcoerce_numeric\u001b[0m\u001b[1;33m=\u001b[0m\u001b[0mcoerce_numeric\u001b[0m\u001b[1;33m\u001b[0m\u001b[1;33m\u001b[0m\u001b[0m\n\u001b[0;32m    151\u001b[0m             )\n",
      "\u001b[1;32mpandas\\_libs\\lib.pyx\u001b[0m in \u001b[0;36mpandas._libs.lib.maybe_convert_numeric\u001b[1;34m()\u001b[0m\n",
      "\u001b[1;31mValueError\u001b[0m: Unable to parse string \"84.90%\" at position 0"
     ]
    }
   ],
   "source": [
    "master = add_variable(master_seed, 'grandSlam_1stServePcnt.csv', '1stServe%')"
   ]
  },
  {
   "cell_type": "code",
   "execution_count": null,
   "metadata": {},
   "outputs": [],
   "source": [
    "master"
   ]
  },
  {
   "cell_type": "code",
   "execution_count": null,
   "metadata": {},
   "outputs": [],
   "source": []
  },
  {
   "cell_type": "code",
   "execution_count": null,
   "metadata": {},
   "outputs": [],
   "source": []
  }
 ],
 "metadata": {
  "kernelspec": {
   "display_name": "Python 3",
   "language": "python",
   "name": "python3"
  },
  "language_info": {
   "codemirror_mode": {
    "name": "ipython",
    "version": 3
   },
   "file_extension": ".py",
   "mimetype": "text/x-python",
   "name": "python",
   "nbconvert_exporter": "python",
   "pygments_lexer": "ipython3",
   "version": "3.8.3"
  }
 },
 "nbformat": 4,
 "nbformat_minor": 4
}
